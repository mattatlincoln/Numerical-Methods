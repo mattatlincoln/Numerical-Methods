{
 "cells": [
  {
   "cell_type": "code",
   "execution_count": 1,
   "id": "7d8a4f24",
   "metadata": {},
   "outputs": [],
   "source": [
    "#conda install -c conda-forge ase"
   ]
  },
  {
   "cell_type": "code",
   "execution_count": 2,
   "id": "377893d2",
   "metadata": {},
   "outputs": [],
   "source": [
    "#conda update -n base -c defaults conda"
   ]
  },
  {
   "cell_type": "code",
   "execution_count": 3,
   "id": "f85cee5c",
   "metadata": {},
   "outputs": [],
   "source": [
    "#conda install -c conda-forge nglview"
   ]
  },
  {
   "cell_type": "code",
   "execution_count": 1,
   "id": "c9480e81",
   "metadata": {},
   "outputs": [
    {
     "data": {
      "image/png": "[encoded data removed]",
      "text/plain": [
       "<Figure size 432x288 with 1 Axes>"
      ]
     },
     "metadata": {
      "needs_background": "light"
     },
     "output_type": "display_data"
    },
    {
     "data": {
      "text/plain": [
       "(-0.2, 0.2)"
      ]
     },
     "execution_count": 1,
     "metadata": {},
     "output_type": "execute_result"
    },
    {
     "data": {
      "image/png": "[encoded data removed]",
      "text/plain": [
       "<Figure size 432x288 with 1 Axes>"
      ]
     },
     "metadata": {
      "needs_background": "light"
     },
     "output_type": "display_data"
    }
   ],
   "source": [
    "import numpy as np\n",
    "from ase.io.trajectory import Trajectory        #use google doc to figure out what this is might need to install something \n",
    "import matplotlib.pyplot as plt\n",
    "from statsmodels.graphics.tsaplots import plot_acf   #for the autocorellation function\n",
    "\n",
    "epsilon=0.1\n",
    "sigma=3.0\n",
    "ri=0            #Do I add the other particles in here? Do I do it manually or individual entries?\n",
    "rj=3.0\n",
    "rij=abs(rj-ri)        #ijklmo could denote them? n could mean something else \n",
    "rij\n",
    "\n",
    "def u(r, epsilon, sigma):  #calculates the force of the interaction for a lenard jones potential where \n",
    "    \n",
    "  \n",
    "    return 48 * epsilon * np.power(  #r is the distance between 2 particles (Å) epsilon is the potential energy at equilibrium \n",
    "        sigma, 12) / np.power(            #sigma is the distance for which the potential energy is zero\n",
    "        r, 13) - 24 * epsilon * np.power(      #The force is in eV/Å \n",
    "        sigma, 6) / np.power(r, 7)\n",
    "    \n",
    "r = np.linspace(2.5, 5, 100)\n",
    "plt.plot(r, u(r, 0.0103, 3.4))\n",
    "plt.xlabel(r'$r$/Å')\n",
    "plt.ylabel(r'$f$/eVÅ$^{-1}$')\n",
    "plt.show()\n",
    "\n",
    "\n",
    "r=np.linspace(2.5,10)\n",
    "\n",
    "fr=-4*epsilon*(((-12)*sigma**12/r**13)+6*sigma**6/r**7)  #derivitive of u\n",
    "fr                                                       #This went wrong somewhere was working before  (NOW WORKING????)\n",
    "\n",
    "plt.plot(r,fr)\n",
    "plt.ylim(-0.2,0.2)"
   ]
  },
  {
   "cell_type": "code",
   "execution_count": 22,
   "id": "8def8ea1",
   "metadata": {},
   "outputs": [],
   "source": [
    "def energyij(model, atomi, atomj):                     \n",
    "                                        #lenard jones potential energy\n",
    "\n",
    "    r=np.linalg.norm(model['atoms'][atomi].position-model['atoms'][atomj].position)\n",
    "    u=4*epsilon*((sigma/r)**12-(sigma/r)**6)\n",
    "    return u\n",
    "\n",
    "def forceij(model, atomi, atomj):\n",
    "\n",
    "    r=np.linalg.norm(model['atoms'][atomi].position-model['atoms'][atomj].position)\n",
    "    \n",
    "    dir=(model['atoms'][atomi].position-model['atoms'][atomj].position)/r\n",
    "    \n",
    "    fr=-4*epsilon*(12*sigma**12*r**(-13)-6*sigma**6*r**(-7))\n",
    "    return -fr*dir, fr*dir\n",
    "\n",
    "\n",
    "\n",
    "#we need to store everything in a dictionary??"
   ]
  },
  {
   "cell_type": "code",
   "execution_count": 31,
   "id": "41277eda",
   "metadata": {},
   "outputs": [],
   "source": [
    "from ase import Atoms\n",
    "import numpy as np\n",
    "nsteps=2000\n",
    "dt=0.1       #is this small enough??? earlier it was 0.01\n",
    "mass=1.0\n",
    "d=3.2       #what is d?\n",
    "output_freq=1\n",
    "#atoms=Atoms('Ar6', positions=[(0.0,0.0,0.0),(0.0,0.0,d),(0.0,0.0,2*d),(0.0,0.0,3*d),(0.0,0.0,4*d),(0.0,0.0,5*d)])\n",
    "\n",
    "atoms=Atoms('Ar2', positions=[(0.0,0.0,0.0),(0.0,0.0,d)])\n",
    "natoms=len(atoms)\n",
    "model=dict(natoms=natoms,\n",
    "           atoms=atoms,\n",
    "           vel=np.zeros((natoms, 3)), #why 3???\n",
    "           forcestp1=np.zeros((natoms,3)),\n",
    "           forcest=np.zeros((natoms,3)),\n",
    "           pot_energy=[],\n",
    "           KE=[],\n",
    "           traj=[], \n",
    "           potential=energyij,\n",
    "           temp_pos=np.zeros((natoms,3)),\n",
    "           temp_vel=np.zeros((natoms,3)),\n",
    "           output_freq=output_freq,\n",
    "           integrator='vverlet')\n",
    "\n",
    "#where do we define Atoms???"
   ]
  },
  {
   "cell_type": "code",
   "execution_count": 32,
   "id": "efa4ec94",
   "metadata": {},
   "outputs": [
    {
     "data": {
      "text/plain": [
       "Atom('Ar', [0.0, 0.0, 3.2], index=1)"
      ]
     },
     "execution_count": 32,
     "metadata": {},
     "output_type": "execute_result"
    }
   ],
   "source": [
    "atoms[1]"
   ]
  },
  {
   "cell_type": "code",
   "execution_count": 33,
   "id": "45e33c08",
   "metadata": {},
   "outputs": [],
   "source": [
    "def integrate(model):\n",
    "    KE = 0\n",
    "    if model['integrator'] == 'Euler':\n",
    "        pot_energy = calcForces(model)\n",
    "        model['atoms'].positions += model['vel'][:]*dt + 0.5*model['forcestp1'][:]/mass*dt**2\n",
    "        model['vel'][:] += model['forcestp1'][:]/mass*dt\n",
    "\n",
    "    elif model['integrator'] == 'vverlet':\n",
    "        model['forcest'] =  np.copy(model['forcestp1'])\n",
    "        model['atoms'].positions += model['vel'][:]*dt + 0.5*model['forcest'][:]/mass*dt**2\n",
    "        pot_energy = calcForces(model)\n",
    "        model['vel'][:] += 0.5*(model['forcest'][:] + model['forcestp1'][:])/mass*dt            \n",
    "\n",
    "    else:\n",
    "        print('no known integrator! falling back on Euler')\n",
    "        pot_energy = calcForces(model)\n",
    "        model['atoms'].positions += model['vel'][:]*dt + 0.5*model['forcestp1'][:]/mass*dt**2\n",
    "        model['vel'][:] += model['forcestp1'][:]/mass*dt\n",
    "    \n",
    "    # fancy way of calculating the KE, not sure if it is faster\n",
    "    #KE = np.sum(np.array([np.dot(model['vel'][i],model['vel'][i]) for i in range(model['natoms'])]))\n",
    "    \n",
    "    for i in range(model['natoms']):\n",
    "        KE += np.dot(model['vel'][i],model['vel'][i])\n",
    "\n",
    "    return pot_energy, KE"
   ]
  },
  {
   "cell_type": "code",
   "execution_count": 34,
   "id": "2275771d",
   "metadata": {},
   "outputs": [],
   "source": [
    "def calcForces(model):\n",
    "    energy=0\n",
    "    \n",
    "    model['forcestp1'][:]=0.0            #reset the force at each step\n",
    "    \n",
    "    for atomi in range (model['natoms']):     #need to avoid double counting\n",
    "        for atomj in range (atomi+1, natoms):\n",
    "            energy+=model['potential'](model,atomi,atomj)\n",
    "            fi, fj = forceij(model, atomi, atomj)\n",
    "            model['forcestp1'][atomi]+=fi\n",
    "            model['forcestp1'][atomj]+=fj\n",
    "    #print(model['forcestp1'])        \n",
    "    return energy        "
   ]
  },
  {
   "cell_type": "code",
   "execution_count": 35,
   "id": "1f4e3519",
   "metadata": {},
   "outputs": [],
   "source": [
    "calcForces(model)\n",
    "\n",
    "for step in range (nsteps):\n",
    "    pot_energy, KE= integrate(model)\n",
    "    \n",
    "    model['pot_energy'].append(pot_energy)\n",
    "    model['KE'].append(0.5*mass*KE)\n",
    "    \n",
    "    if not step%model['output_freq']:\n",
    "        model['traj'].append(np.copy(model['atoms'].positions))\n",
    "        \n",
    "#return         #what do we return?? pot_energy and KE??"
   ]
  },
  {
   "cell_type": "code",
   "execution_count": 36,
   "id": "e325d71e",
   "metadata": {},
   "outputs": [
    {
     "data": {
      "text/plain": [
       "<matplotlib.legend.Legend at 0x7fea5376eeb0>"
      ]
     },
     "execution_count": 36,
     "metadata": {},
     "output_type": "execute_result"
    },
    {
     "data": {
      "image/png": "[encoded data removed]",
      "text/plain": [
       "<Figure size 432x288 with 1 Axes>"
      ]
     },
     "metadata": {
      "needs_background": "light"
     },
     "output_type": "display_data"
    }
   ],
   "source": [
    "import numpy as np\n",
    "from ase.io.trajectory import Trajectory        #use google doc to figure out what this is might need to install something \n",
    "import matplotlib.pyplot as plt\n",
    "from statsmodels.graphics.tsaplots import plot_acf\n",
    "\n",
    "#plt.plot(np.array(model['KE']), label='KE')\n",
    "plt.plot(np.array(model['pot_energy']), label='PE')\n",
    "\n",
    "plt.legend()"
   ]
  },
  {
   "cell_type": "code",
   "execution_count": 9,
   "id": "fba8092d",
   "metadata": {},
   "outputs": [
    {
     "ename": "ModuleNotFoundError",
     "evalue": "No module named 'nglview'",
     "output_type": "error",
     "traceback": [
      "\u001b[0;31m---------------------------------------------------------------------------\u001b[0m",
      "\u001b[0;31mModuleNotFoundError\u001b[0m                       Traceback (most recent call last)",
      "\u001b[0;32m<ipython-input-9-f7cf39700e3f>\u001b[0m in \u001b[0;36m<module>\u001b[0;34m\u001b[0m\n\u001b[0;32m----> 1\u001b[0;31m \u001b[0;32mimport\u001b[0m \u001b[0mnglview\u001b[0m \u001b[0;32mas\u001b[0m \u001b[0mnv\u001b[0m\u001b[0;34m\u001b[0m\u001b[0;34m\u001b[0m\u001b[0m\n\u001b[0m",
      "\u001b[0;31mModuleNotFoundError\u001b[0m: No module named 'nglview'"
     ]
    }
   ],
   "source": [
    "import nglview as nv"
   ]
  },
  {
   "cell_type": "code",
   "execution_count": null,
   "id": "98f90ab5",
   "metadata": {},
   "outputs": [],
   "source": [
    "#need to export and then reimport at ASE traj???????????\n",
    "\n",
    "mytraj=Trajectory('mytraj.traj', mode='w')\n",
    "\n",
    "for traj in model['traj']:\n",
    "    atoms.positions=traj\n",
    "    mytraj.write(atoms=atoms)\n",
    "    \n",
    "mytraj.close()\n",
    "myreadtraj=Trajectory('mytraj.traj',mode='r')"
   ]
  },
  {
   "cell_type": "code",
   "execution_count": null,
   "id": "ec217f1f",
   "metadata": {},
   "outputs": [],
   "source": [
    "nv.show_asetraj(myreadtraj) "
   ]
  },
  {
   "cell_type": "code",
   "execution_count": null,
   "id": "a311159a",
   "metadata": {},
   "outputs": [],
   "source": [
    "#these arrays will help for the larger system of 6 particles then use acceleration and velocity calculation functions to \n",
    "#fill them \n",
    "\n",
    "#Dont know where this comes in \n",
    "\n",
    "dt = 0.001         #is this a good and stable time step? Explain   some say nanoseconds or less \n",
    "\n",
    " \n",
    "\n",
    "# set up some empty arrays to store the trjectory variables, will need 5 more of each??\n",
    "\n",
    "xitraj = [] \n",
    "\n",
    "vitraj = [] \n",
    "\n",
    "xjtraj = [] \n",
    "\n",
    "vjtraj = [] \n",
    "\n",
    "rijtraj = [] \n",
    "\n",
    "Fitraj = [] \n",
    "\n",
    "Fjtraj = [] \n",
    "\n",
    "E_LJ = [] \n",
    "\n",
    "E_LJ.append(energy_at_rij(ri, rj))     \n",
    "\n",
    "xitraj.append(ri) \n",
    "\n",
    "xjtraj.append(rj) \n",
    "\n",
    "rijtraj.append(rj) \n",
    "\n",
    "vitraj.append(vi) \n",
    "\n",
    "vjtraj.append(vj)     \n",
    "\n",
    "Fitraj.append(Fi) \n",
    "\n",
    "Fjtraj.append(Fj)     \n",
    "\n",
    " \n",
    "\n",
    "for step in range(5000): \n",
    "\n",
    "    Fi, Fj = calc_forces(ri, rj) \n",
    "\n",
    "    ri = ri + vi*dt + 0.5*Fi*dt**2 \n",
    "\n",
    "    rj = rj + vj*dt + 0.5*Fj*dt**2 \n",
    "\n",
    "    vi = vi + Fi*dt \n",
    "\n",
    "    vj = vj + Fj*dt \n",
    "\n",
    "    E_LJ.append(energy_at_rij(ri, rj)) \n",
    "\n",
    "    xitraj.append(ri) \n",
    "\n",
    "    xjtraj.append(rj) \n",
    "\n",
    "    rijtraj.append(abs(rj-ri)) \n",
    "\n",
    "    vitraj.append(vi) \n",
    "\n",
    "    vjtraj.append(vj) \n",
    "\n",
    "    Fitraj.append(Fi) \n",
    "\n",
    "    Fjtraj.append(Fj)  \n",
    "    "
   ]
  },
  {
   "cell_type": "code",
   "execution_count": null,
   "id": "b5dc9dc3",
   "metadata": {},
   "outputs": [],
   "source": [
    "#Taylor expansion of potential energy about x=0  where would this sytem be about?\n",
    "\n",
    "T_Exp=U(0)+1/2*dU/dx(0)*x**2+1/3*dU**2/dx**2(0)*x**3\n",
    "\n",
    "#compare to the vibrational frwquency, should be similar  "
   ]
  }
 ],
 "metadata": {
  "kernelspec": {
   "display_name": "Python 3",
   "language": "python",
   "name": "python3"
  },
  "language_info": {
   "codemirror_mode": {
    "name": "ipython",
    "version": 3
   },
   "file_extension": ".py",
   "mimetype": "text/x-python",
   "name": "python",
   "nbconvert_exporter": "python",
   "pygments_lexer": "ipython3",
   "version": "3.8.8"
  }
 },
 "nbformat": 4,
 "nbformat_minor": 5
}
